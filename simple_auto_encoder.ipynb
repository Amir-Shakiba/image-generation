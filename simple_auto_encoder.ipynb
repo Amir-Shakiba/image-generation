{
  "nbformat": 4,
  "nbformat_minor": 0,
  "metadata": {
    "colab": {
      "name": "simple auto encoder.ipynb",
      "provenance": [],
      "collapsed_sections": [],
      "authorship_tag": "ABX9TyPpeooh5tdAIAOazLLwwmiR",
      "include_colab_link": true
    },
    "kernelspec": {
      "name": "python3",
      "display_name": "Python 3"
    },
    "language_info": {
      "name": "python"
    }
  },
  "cells": [
    {
      "cell_type": "markdown",
      "metadata": {
        "id": "view-in-github",
        "colab_type": "text"
      },
      "source": [
        "<a href=\"https://colab.research.google.com/github/Amir-Shakiba/image-generation/blob/AE-MNIST/simple_auto_encoder.ipynb\" target=\"_parent\"><img src=\"https://colab.research.google.com/assets/colab-badge.svg\" alt=\"Open In Colab\"/></a>"
      ]
    },
    {
      "cell_type": "code",
      "source": [
        "import tensorflow as tf\n",
        "import matplotlib.pyplot as plt\n",
        "import numpy as np"
      ],
      "metadata": {
        "id": "MNLlJU6GcHrG"
      },
      "execution_count": 7,
      "outputs": []
    },
    {
      "cell_type": "code",
      "execution_count": 8,
      "metadata": {
        "id": "r0s4AIqTZ7P6"
      },
      "outputs": [],
      "source": [
        "(x_train, _), (x_test, _) = tf.keras.datasets.mnist.load_data()\n",
        "x_train = x_train/255.0\n",
        "x_test = x_test/255.0"
      ]
    },
    {
      "cell_type": "code",
      "source": [
        "inputs = tf.keras.Input(shape=(28,28,1))\n",
        "x = tf.keras.layers.Flatten()(inputs)\n",
        "x = tf.keras.layers.Dense(128)(x)\n",
        "x = tf.keras.layers.Dense(64)(x)\n",
        "x = tf.keras.layers.Dense(256)(x)\n",
        "x = tf.keras.layers.Dense(784)(x)\n",
        "outputs = tf.keras.layers.Reshape((28,28,1))(x)\n",
        "ae_model = tf.keras.Model(inputs,outputs)\n",
        "ae_model.compile(optimizer=\"adam\", loss=\"mse\")"
      ],
      "metadata": {
        "id": "agEgwJXQwhHc"
      },
      "execution_count": 9,
      "outputs": []
    },
    {
      "cell_type": "code",
      "source": [
        "ae_model.fit(x= x_train,y = x_train,epochs = 3)\n"
      ],
      "metadata": {
        "colab": {
          "base_uri": "https://localhost:8080/"
        },
        "id": "yfyDGgacjONA",
        "outputId": "87c9198f-4ad3-435a-b968-512cb1f0bb96"
      },
      "execution_count": 10,
      "outputs": [
        {
          "output_type": "stream",
          "name": "stdout",
          "text": [
            "Epoch 1/3\n",
            "1875/1875 [==============================] - 9s 4ms/step - loss: 0.0135\n",
            "Epoch 2/3\n",
            "1875/1875 [==============================] - 8s 4ms/step - loss: 0.0098\n",
            "Epoch 3/3\n",
            "1875/1875 [==============================] - 7s 4ms/step - loss: 0.0097\n"
          ]
        },
        {
          "output_type": "execute_result",
          "data": {
            "text/plain": [
              "<keras.callbacks.History at 0x7f1f57b39110>"
            ]
          },
          "metadata": {},
          "execution_count": 10
        }
      ]
    },
    {
      "cell_type": "code",
      "source": [
        "images = x_test[:8]\n",
        "outputs = ae_model.predict(images)\n",
        "print(outputs.shape)\n",
        "\n",
        "grid_col = 8\n",
        "grid_row = 2\n",
        "\n",
        "f, axarr = plt.subplots(grid_row, grid_col, figsize=(grid_col*2, grid_row*2))\n",
        "\n",
        "i = 0\n",
        "for row in range(0, grid_row, 2):\n",
        "    for col in range(grid_col):\n",
        "        axarr[row,col].imshow(images[i],cmap='gray')\n",
        "        axarr[row,col].axis('off')\n",
        "        axarr[row+1,col].imshow(np.clip(outputs[i,:,:,0],0,1),cmap='gray')\n",
        "        axarr[row+1,col].axis('off')        \n",
        "        i += 1\n",
        "f.tight_layout(0.1, h_pad=0.2, w_pad=0.1)        \n",
        "plt.show()"
      ],
      "metadata": {
        "colab": {
          "base_uri": "https://localhost:8080/",
          "height": 350
        },
        "id": "VKSPs2FE4J0A",
        "outputId": "3f791ddf-3440-4439-ea2b-84e9a5ba991a"
      },
      "execution_count": 11,
      "outputs": [
        {
          "output_type": "stream",
          "name": "stdout",
          "text": [
            "(8, 28, 28, 1)\n"
          ]
        },
        {
          "output_type": "stream",
          "name": "stderr",
          "text": [
            "/usr/local/lib/python3.7/dist-packages/ipykernel_launcher.py:18: MatplotlibDeprecationWarning: The 'renderer' parameter of tight_layout() is deprecated since Matplotlib 3.2 and will be removed two minor releases later.  If any parameter follows 'renderer', they should be pass as keyword, not positionally.\n"
          ]
        },
        {
          "output_type": "display_data",
          "data": {
            "text/plain": [
              "<Figure size 1152x288 with 16 Axes>"
            ],
            "image/png": "[encoded data removed]"
          },
          "metadata": {
            "needs_background": "light"
          }
        }
      ]
    }
  ]
}